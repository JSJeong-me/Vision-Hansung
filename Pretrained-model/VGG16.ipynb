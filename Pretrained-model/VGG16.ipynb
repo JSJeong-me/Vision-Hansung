{
  "nbformat": 4,
  "nbformat_minor": 0,
  "metadata": {
    "kernelspec": {
      "display_name": "Python 3",
      "language": "python",
      "name": "python3"
    },
    "language_info": {
      "codemirror_mode": {
        "name": "ipython",
        "version": 3
      },
      "file_extension": ".py",
      "mimetype": "text/x-python",
      "name": "python",
      "nbconvert_exporter": "python",
      "pygments_lexer": "ipython3",
      "version": "3.8.5"
    },
    "colab": {
      "name": "VGG16.ipynb",
      "provenance": [],
      "include_colab_link": true
    }
  },
  "cells": [
    {
      "cell_type": "markdown",
      "metadata": {
        "id": "view-in-github",
        "colab_type": "text"
      },
      "source": [
        "<a href=\"https://colab.research.google.com/github/JSJeong-me/Vision-Hansung/blob/main/Pretrained-model/VGG16.ipynb\" target=\"_parent\"><img src=\"https://colab.research.google.com/assets/colab-badge.svg\" alt=\"Open In Colab\"/></a>"
      ]
    },
    {
      "cell_type": "code",
      "metadata": {
        "id": "OBcn1Imz2TOI"
      },
      "source": [
        "### https://keras.io/ko/applications/\n",
        "\n",
        "# !pip uninstall tensorflow -y\n",
        "# !pip install tensorflow==2.2.0"
      ],
      "execution_count": null,
      "outputs": []
    },
    {
      "cell_type": "markdown",
      "metadata": {
        "id": "7Z8v8zRU2TOJ"
      },
      "source": [
        "### https://machinelearningmastery.com/use-pre-trained-vgg-model-classify-objects-photographs/"
      ]
    },
    {
      "cell_type": "code",
      "metadata": {
        "id": "VXomq3TB2TOK"
      },
      "source": [
        "from keras.preprocessing.image import load_img\n",
        "from keras.preprocessing.image import img_to_array\n",
        "from keras.applications.vgg16 import preprocess_input\n",
        "from keras.applications.vgg16 import decode_predictions\n",
        "from keras.applications.vgg16 import VGG16"
      ],
      "execution_count": 1,
      "outputs": []
    },
    {
      "cell_type": "code",
      "metadata": {
        "id": "4bxR7Od72TOL"
      },
      "source": [
        "# load the model\n",
        "model = VGG16()\n",
        "# load an image from file\n",
        "img_path = 'elephant1.jpg'\n",
        "image = load_img(img_path, target_size=(224, 224))\n",
        "# convert the image pixels to a numpy array\n",
        "image = img_to_array(image)\n"
      ],
      "execution_count": 5,
      "outputs": []
    },
    {
      "cell_type": "code",
      "metadata": {
        "colab": {
          "base_uri": "https://localhost:8080/"
        },
        "id": "pqVUlxqu2TOL",
        "outputId": "f1cfa03a-8691-41e8-945a-014b9ae0662e"
      },
      "source": [
        "# reshape data for the model\n",
        "# We only have one sample (one image). We can reshape the array by calling reshape() and adding the extra dimension.\n",
        "# The network expects one or more images as input; \n",
        "# that means the input array will need to be 4-dimensional: samples, rows, columns, and channels.\n",
        "\n",
        "image = image.reshape((1, image.shape[0], image.shape[1], image.shape[2]))\n",
        "\n",
        "# prepare the image for the VGG model\n",
        "image = preprocess_input(image)\n",
        "\n",
        "# predict the probability across all output classes\n",
        "yhat = model.predict(image)\n",
        "\n",
        "# convert the probabilities to class labels\n",
        "label = decode_predictions(yhat)\n",
        "# retrieve the most likely result, e.g. highest probability\n",
        "\n",
        "label = label[0][0]\n",
        "\n",
        "# print the classification\n",
        "print('%s %s (%.2f%%)' % (label[0], label[1], label[2]*100))"
      ],
      "execution_count": 6,
      "outputs": [
        {
          "output_type": "stream",
          "name": "stdout",
          "text": [
            "n02504013 Indian_elephant (45.65%)\n"
          ]
        }
      ]
    },
    {
      "cell_type": "code",
      "metadata": {
        "id": "-fNcd1e22TOL"
      },
      "source": [
        "import os\n",
        "import sys\n",
        "import matplotlib.pyplot as plt\n",
        "\n",
        "from PIL import Image\n",
        "from PIL import ImageFont\n",
        "from PIL import ImageDraw\n",
        "\n",
        "image = Image.open(img_path).convert(\"RGB\")\n",
        "\n",
        "plt.figure(figsize=(25,20))\n",
        "plt.imshow(image)\n",
        "plt.show()\n",
        "plt.close()"
      ],
      "execution_count": null,
      "outputs": []
    },
    {
      "cell_type": "code",
      "metadata": {
        "id": "X5NOe2cJ2TOM"
      },
      "source": [
        ""
      ],
      "execution_count": null,
      "outputs": []
    }
  ]
}